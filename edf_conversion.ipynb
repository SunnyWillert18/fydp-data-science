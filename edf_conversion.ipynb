{
 "cells": [
  {
   "cell_type": "markdown",
   "metadata": {},
   "source": [
    "# Notebook EDF Converstion and Initial Pipeline "
   ]
  },
  {
   "cell_type": "markdown",
   "metadata": {},
   "source": [
    "### initial thought process on steps to follow with pulling in data\n",
    "- pull in metadata and convert from EDF to pd: \n",
    "    - ``|user_id|device_id|disease|personal_information|``\n",
    "- access respective user_id data folder\n",
    "- pull in data from prespective device_id EDF data file \n",
    "    - ``|user_id|device_id|type|time|value|``\n",
    "- convert EDF to pandas dataframe\n",
    "- merge required files together (for respective calculation)"
   ]
  },
  {
   "cell_type": "code",
   "execution_count": 1,
   "metadata": {},
   "outputs": [],
   "source": [
    "import sys\n",
    "import getpass\n",
    "from pathlib import Path\n",
    "\n",
    "import pandas as pd\n",
    "import numpy as np\n",
    "import scipy as sp\n",
    "\n",
    "import matplotlib.pyplot as plt\n",
    "\n",
    "import pyedflib"
   ]
  },
  {
   "cell_type": "code",
   "execution_count": 9,
   "metadata": {},
   "outputs": [],
   "source": [
    "user = getpass.getuser()\n",
    "data_path = '/Users/{}/GitHub/fydp-data-science/data/ondri_data/'.format(user)"
   ]
  },
  {
   "cell_type": "markdown",
   "metadata": {},
   "source": [
    "### EDF Conversion"
   ]
  },
  {
   "cell_type": "markdown",
   "metadata": {},
   "source": [
    "#### Use this function to identify what signals are in an EDF function"
   ]
  },
  {
   "cell_type": "code",
   "execution_count": 66,
   "metadata": {},
   "outputs": [],
   "source": [
    "def identify_signals(data_path, filename):\n",
    "    \n",
    "    # read the EDF file\n",
    "    file = pyedflib.EdfReader(data_path + filename)\n",
    "    n = file.signals_in_file\n",
    "    signal_labels = file.getSignalLabels()\n",
    "    \n",
    "    # close file\n",
    "    file.close()\n",
    "    \n",
    "    print (signal_labels)\n",
    "    \n",
    "    return signal_labels"
   ]
  },
  {
   "cell_type": "markdown",
   "metadata": {},
   "source": [
    "#### Use this function to pull selected signals from EDF file\n",
    " - signals -- an array of indicies of the signals we want to pull"
   ]
  },
  {
   "cell_type": "code",
   "execution_count": 77,
   "metadata": {},
   "outputs": [],
   "source": [
    "def convert_data_file(data_path, filename, signals):    \n",
    "    \n",
    "    # read the EDF file\n",
    "    file = pyedflib.EdfReader(data_path + filename)\n",
    "    signal_labels = file.getSignalLabels()\n",
    "    \n",
    "    selected_labels = []\n",
    "    for i in signals:\n",
    "        selected_labels.append(signal_labels[i])\n",
    "    \n",
    "    # format based on signals selected\n",
    "    n = file.signals_in_file\n",
    "    sigbufs = np.zeros((n, len(file.readSignal(i))))\n",
    "\n",
    "    for i in signals:\n",
    "        sigbufs[i,:] = file.readSignal(i)\n",
    "        \n",
    "    # close file\n",
    "    file.close()\n",
    "        \n",
    "    # create dataframe\n",
    "    df = pd.DataFrame(columns=selected_labels)\n",
    "    for i in np.arange(0,len(selected_labels)):\n",
    "        label = selected_labels[i]\n",
    "        df[label] = sigbufs[i]\n",
    "        \n",
    "    return df"
   ]
  },
  {
   "cell_type": "markdown",
   "metadata": {},
   "source": [
    "### Converting Files"
   ]
  },
  {
   "cell_type": "markdown",
   "metadata": {},
   "source": [
    "#### *ECG data*"
   ]
  },
  {
   "cell_type": "code",
   "execution_count": 68,
   "metadata": {},
   "outputs": [
    {
     "name": "stdout",
     "output_type": "stream",
     "text": [
      "['ECG', 'Accelerometer_X', 'Accelerometer_Y', 'Accelerometer_Z', 'Marker', 'HRV']\n"
     ]
    }
   ],
   "source": [
    "filename = 'bittium.EDF'\n",
    "signals = identify_signals(data_path, filename)"
   ]
  },
  {
   "cell_type": "code",
   "execution_count": 78,
   "metadata": {},
   "outputs": [
    {
     "data": {
      "text/html": [
       "<div>\n",
       "<style scoped>\n",
       "    .dataframe tbody tr th:only-of-type {\n",
       "        vertical-align: middle;\n",
       "    }\n",
       "\n",
       "    .dataframe tbody tr th {\n",
       "        vertical-align: top;\n",
       "    }\n",
       "\n",
       "    .dataframe thead th {\n",
       "        text-align: right;\n",
       "    }\n",
       "</style>\n",
       "<table border=\"1\" class=\"dataframe\">\n",
       "  <thead>\n",
       "    <tr style=\"text-align: right;\">\n",
       "      <th></th>\n",
       "      <th>ECG</th>\n",
       "    </tr>\n",
       "  </thead>\n",
       "  <tbody>\n",
       "    <tr>\n",
       "      <th>0</th>\n",
       "      <td>19.0</td>\n",
       "    </tr>\n",
       "    <tr>\n",
       "      <th>1</th>\n",
       "      <td>4.0</td>\n",
       "    </tr>\n",
       "    <tr>\n",
       "      <th>2</th>\n",
       "      <td>5.0</td>\n",
       "    </tr>\n",
       "    <tr>\n",
       "      <th>3</th>\n",
       "      <td>-3.0</td>\n",
       "    </tr>\n",
       "    <tr>\n",
       "      <th>4</th>\n",
       "      <td>-23.0</td>\n",
       "    </tr>\n",
       "  </tbody>\n",
       "</table>\n",
       "</div>"
      ],
      "text/plain": [
       "    ECG\n",
       "0  19.0\n",
       "1   4.0\n",
       "2   5.0\n",
       "3  -3.0\n",
       "4 -23.0"
      ]
     },
     "execution_count": 78,
     "metadata": {},
     "output_type": "execute_result"
    }
   ],
   "source": [
    "ecg = convert_data_file(data_path, filename, [0])\n",
    "ecg.head()"
   ]
  },
  {
   "cell_type": "code",
   "execution_count": 79,
   "metadata": {},
   "outputs": [],
   "source": [
    "ecg.to_csv(data_path + 'ecg_data.csv')"
   ]
  },
  {
   "cell_type": "markdown",
   "metadata": {},
   "source": [
    "#### *Accelerometer data*"
   ]
  },
  {
   "cell_type": "code",
   "execution_count": 80,
   "metadata": {},
   "outputs": [
    {
     "name": "stdout",
     "output_type": "stream",
     "text": [
      "['x', 'y', 'z']\n"
     ]
    }
   ],
   "source": [
    "filename = 'geneactiv.EDF'\n",
    "signals = identify_signals(data_path, filename)"
   ]
  },
  {
   "cell_type": "code",
   "execution_count": 81,
   "metadata": {},
   "outputs": [
    {
     "data": {
      "text/html": [
       "<div>\n",
       "<style scoped>\n",
       "    .dataframe tbody tr th:only-of-type {\n",
       "        vertical-align: middle;\n",
       "    }\n",
       "\n",
       "    .dataframe tbody tr th {\n",
       "        vertical-align: top;\n",
       "    }\n",
       "\n",
       "    .dataframe thead th {\n",
       "        text-align: right;\n",
       "    }\n",
       "</style>\n",
       "<table border=\"1\" class=\"dataframe\">\n",
       "  <thead>\n",
       "    <tr style=\"text-align: right;\">\n",
       "      <th></th>\n",
       "      <th>x</th>\n",
       "      <th>y</th>\n",
       "      <th>z</th>\n",
       "    </tr>\n",
       "  </thead>\n",
       "  <tbody>\n",
       "    <tr>\n",
       "      <th>0</th>\n",
       "      <td>-0.050722</td>\n",
       "      <td>-0.041538</td>\n",
       "      <td>-1.015312</td>\n",
       "    </tr>\n",
       "    <tr>\n",
       "      <th>1</th>\n",
       "      <td>-0.062537</td>\n",
       "      <td>-0.045464</td>\n",
       "      <td>-1.007386</td>\n",
       "    </tr>\n",
       "    <tr>\n",
       "      <th>2</th>\n",
       "      <td>-0.062537</td>\n",
       "      <td>-0.041538</td>\n",
       "      <td>-1.007386</td>\n",
       "    </tr>\n",
       "    <tr>\n",
       "      <th>3</th>\n",
       "      <td>-0.046783</td>\n",
       "      <td>-0.049391</td>\n",
       "      <td>-0.999459</td>\n",
       "    </tr>\n",
       "    <tr>\n",
       "      <th>4</th>\n",
       "      <td>-0.046783</td>\n",
       "      <td>-0.053318</td>\n",
       "      <td>-1.007386</td>\n",
       "    </tr>\n",
       "  </tbody>\n",
       "</table>\n",
       "</div>"
      ],
      "text/plain": [
       "          x         y         z\n",
       "0 -0.050722 -0.041538 -1.015312\n",
       "1 -0.062537 -0.045464 -1.007386\n",
       "2 -0.062537 -0.041538 -1.007386\n",
       "3 -0.046783 -0.049391 -0.999459\n",
       "4 -0.046783 -0.053318 -1.007386"
      ]
     },
     "execution_count": 81,
     "metadata": {},
     "output_type": "execute_result"
    }
   ],
   "source": [
    "wrist_acc = convert_data_file(data_path, filename, [0,1,2])\n",
    "wrist_acc.head()"
   ]
  },
  {
   "cell_type": "code",
   "execution_count": 82,
   "metadata": {},
   "outputs": [],
   "source": [
    "wrist_acc.to_csv(data_path + 'acc_data.csv')"
   ]
  },
  {
   "cell_type": "markdown",
   "metadata": {},
   "source": [
    "### Merging Function"
   ]
  },
  {
   "cell_type": "code",
   "execution_count": 65,
   "metadata": {},
   "outputs": [],
   "source": [
    "# pass in two dfs at a time to merge\n",
    "def merge_files(master_df, df):\n",
    "    # assuming the master df is in correct folder\n",
    "    \n",
    "    # prep the df so that it is in the correct format for merging\n",
    "    df = df.rename(columns={'value':df.type.unique()[0]})\n",
    "    df = df.drop(['type','device_id'], 1)\n",
    "   \n",
    "    # might have to sort the time indices, but that depends on how they are \n",
    "    # formatted and the likelihood of differences across devices\n",
    "    merge_df = pd.merge(master_df,\n",
    "                        df,\n",
    "                        left_on=['user_id','time'], \n",
    "                        right_on=['user_id','time'],\n",
    "                        how='outer')\n",
    "    \n",
    "    return merge_df"
   ]
  }
 ],
 "metadata": {
  "kernelspec": {
   "display_name": "Python 3",
   "language": "python",
   "name": "python3"
  },
  "language_info": {
   "codemirror_mode": {
    "name": "ipython",
    "version": 3
   },
   "file_extension": ".py",
   "mimetype": "text/x-python",
   "name": "python",
   "nbconvert_exporter": "python",
   "pygments_lexer": "ipython3",
   "version": "3.7.3"
  }
 },
 "nbformat": 4,
 "nbformat_minor": 4
}
