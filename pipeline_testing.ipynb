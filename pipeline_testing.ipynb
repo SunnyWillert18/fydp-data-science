{
 "cells": [
  {
   "cell_type": "markdown",
   "metadata": {},
   "source": [
    "# Notebook initial pipeline and signal processing "
   ]
  },
  {
   "cell_type": "markdown",
   "metadata": {},
   "source": [
    "## initial thought process on steps to follow with pulling in data\n",
    "- pull in metadata and convert from EDF to pd: \n",
    "    - ``|user_id|device_id|disease|personal_information|``\n",
    "- access respective user_id data folder\n",
    "- pull in data from prespective device_id EDF data file \n",
    "    - ``|device_id|type|time|value|``\n",
    "- convert EDF to pandas dataframe\n",
    "- merge required files together (for respective calculation)"
   ]
  },
  {
   "cell_type": "code",
   "execution_count": 2,
   "metadata": {},
   "outputs": [],
   "source": [
    "import sys\n",
    "import getpass\n",
    "from pathlib import Path\n",
    "\n",
    "import pandas as pd\n",
    "import numpy as np\n",
    "import scipy as sp\n",
    "\n",
    "import matplotlib.pyplot as plt\n",
    "\n",
    "import pyedflib"
   ]
  },
  {
   "cell_type": "code",
   "execution_count": 44,
   "metadata": {},
   "outputs": [],
   "source": [
    "user = getpass.getuser()\n",
    "data_path = '/Users/{}/Desktop/GitHub/fydp-data-science/sample_files/'.format(user)\n",
    "\n",
    "# hasn't been created yet -- either develop own or get from ONDRI\n",
    "metadata = data_path + 'metadata.edf'"
   ]
  },
  {
   "cell_type": "code",
   "execution_count": 47,
   "metadata": {},
   "outputs": [],
   "source": [
    "def convert_data_file(data_path, filename):    \n",
    "    # pull data out of the EDF file\n",
    "    file = pyedflib.EdfReader(data_path + filename)\n",
    "    n = file.signals_in_file\n",
    "    signal_labels = file.getSignalLabels()\n",
    "    sigbufs = np.zeros((n, file.getNSamples()[0]))\n",
    "\n",
    "    for i in np.arange(n):\n",
    "        sigbufs[i,:] = file.readSignal(i)\n",
    "        \n",
    "    # close file\n",
    "    file.close()\n",
    "        \n",
    "    # create dataframe\n",
    "    df = pd.DataFrame(columns=signal_labels)\n",
    "    for i in np.arange(0,len(signal_labels)):\n",
    "        label = signal_labels[i]\n",
    "        df[label] = sigbufs[i]\n",
    "        \n",
    "    return df"
   ]
  },
  {
   "cell_type": "code",
   "execution_count": 51,
   "metadata": {},
   "outputs": [
    {
     "data": {
      "text/html": [
       "<div>\n",
       "<style scoped>\n",
       "    .dataframe tbody tr th:only-of-type {\n",
       "        vertical-align: middle;\n",
       "    }\n",
       "\n",
       "    .dataframe tbody tr th {\n",
       "        vertical-align: top;\n",
       "    }\n",
       "\n",
       "    .dataframe thead th {\n",
       "        text-align: right;\n",
       "    }\n",
       "</style>\n",
       "<table border=\"1\" class=\"dataframe\">\n",
       "  <thead>\n",
       "    <tr style=\"text-align: right;\">\n",
       "      <th></th>\n",
       "      <th>dX</th>\n",
       "    </tr>\n",
       "  </thead>\n",
       "  <tbody>\n",
       "    <tr>\n",
       "      <td>0</td>\n",
       "      <td>-2.000000</td>\n",
       "    </tr>\n",
       "    <tr>\n",
       "      <td>1</td>\n",
       "      <td>-1.007812</td>\n",
       "    </tr>\n",
       "    <tr>\n",
       "      <td>2</td>\n",
       "      <td>-1.001953</td>\n",
       "    </tr>\n",
       "    <tr>\n",
       "      <td>3</td>\n",
       "      <td>-1.001953</td>\n",
       "    </tr>\n",
       "    <tr>\n",
       "      <td>4</td>\n",
       "      <td>-1.004883</td>\n",
       "    </tr>\n",
       "    <tr>\n",
       "      <td>...</td>\n",
       "      <td>...</td>\n",
       "    </tr>\n",
       "    <tr>\n",
       "      <td>6914555</td>\n",
       "      <td>-1.035156</td>\n",
       "    </tr>\n",
       "    <tr>\n",
       "      <td>6914556</td>\n",
       "      <td>-1.009766</td>\n",
       "    </tr>\n",
       "    <tr>\n",
       "      <td>6914557</td>\n",
       "      <td>-1.005859</td>\n",
       "    </tr>\n",
       "    <tr>\n",
       "      <td>6914558</td>\n",
       "      <td>-1.019531</td>\n",
       "    </tr>\n",
       "    <tr>\n",
       "      <td>6914559</td>\n",
       "      <td>-1.033203</td>\n",
       "    </tr>\n",
       "  </tbody>\n",
       "</table>\n",
       "<p>6914560 rows × 1 columns</p>\n",
       "</div>"
      ],
      "text/plain": [
       "               dX\n",
       "0       -2.000000\n",
       "1       -1.007812\n",
       "2       -1.001953\n",
       "3       -1.001953\n",
       "4       -1.004883\n",
       "...           ...\n",
       "6914555 -1.035156\n",
       "6914556 -1.009766\n",
       "6914557 -1.005859\n",
       "6914558 -1.019531\n",
       "6914559 -1.033203\n",
       "\n",
       "[6914560 rows x 1 columns]"
      ]
     },
     "execution_count": 51,
     "metadata": {},
     "output_type": "execute_result"
    }
   ],
   "source": [
    "convert_data_file(data_path, 'dX.edf')"
   ]
  },
  {
   "cell_type": "code",
   "execution_count": null,
   "metadata": {},
   "outputs": [],
   "source": []
  }
 ],
 "metadata": {
  "kernelspec": {
   "display_name": "Python 3",
   "language": "python",
   "name": "python3"
  },
  "language_info": {
   "codemirror_mode": {
    "name": "ipython",
    "version": 3
   },
   "file_extension": ".py",
   "mimetype": "text/x-python",
   "name": "python",
   "nbconvert_exporter": "python",
   "pygments_lexer": "ipython3",
   "version": "3.7.4"
  }
 },
 "nbformat": 4,
 "nbformat_minor": 4
}
