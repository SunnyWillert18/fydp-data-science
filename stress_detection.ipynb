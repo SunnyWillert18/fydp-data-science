{
 "cells": [
  {
   "cell_type": "markdown",
   "metadata": {},
   "source": [
    "# Stress Detection Notebook"
   ]
  },
  {
   "cell_type": "markdown",
   "metadata": {},
   "source": [
    "Algorithm based on: <br>\n",
    "`M. Salai, I. Vassanyi, and I. Kosa, “Stress Detection Using Low Cost Heart Rate Sensors,” Journal of Healthcare Engineering,  2016.`\n",
    "\n",
    "With incorporating of the physical activity index from: <br>\n",
    "`J. Bai,et al., “An Activity Index for Raw Accelerometer Data and Its Comparison with Other Activity Metrics,” PLoS ONE, vol. 11, 2016.`"
   ]
  },
  {
   "cell_type": "code",
   "execution_count": 121,
   "metadata": {},
   "outputs": [],
   "source": [
    "import sys\n",
    "import getpass\n",
    "from pathlib import Path\n",
    "from collections import Counter\n",
    "\n",
    "import pandas as pd\n",
    "import numpy as np\n",
    "import scipy as sp\n",
    "\n",
    "import matplotlib.pyplot as plt\n",
    "\n",
    "import pyedflib\n",
    "from pandas.compat import StringIO\n",
    "\n",
    "import heartpy as hp"
   ]
  },
  {
   "cell_type": "code",
   "execution_count": 2,
   "metadata": {},
   "outputs": [],
   "source": [
    "user = getpass.getuser()\n",
    "data_path = '/Users/{}/GitHub/fydp-data-science/data/ondri_data/'.format(user)"
   ]
  },
  {
   "cell_type": "markdown",
   "metadata": {},
   "source": [
    "## Setting variables\n",
    "- variables are based on the values presented in the Salai paper"
   ]
  },
  {
   "cell_type": "code",
   "execution_count": 3,
   "metadata": {},
   "outputs": [],
   "source": [
    "variables = {\n",
    "    'sampling_frequency': 1000,\n",
    "    'window_size': 560,\n",
    "    'shift': 20,\n",
    "    'n_intervals': 4,\n",
    "}\n",
    "\n",
    "thresholds = {\n",
    "    'mean_bpm_change': 5,\n",
    "    'rmssd_change': -9,\n",
    "    'pnn50_change': -9,\n",
    "    'activity_intensity': 'low'\n",
    "}"
   ]
  },
  {
   "cell_type": "code",
   "execution_count": 29,
   "metadata": {},
   "outputs": [],
   "source": [
    "sampling_rate = 100"
   ]
  },
  {
   "cell_type": "markdown",
   "metadata": {},
   "source": [
    "## Methods to detect stress"
   ]
  },
  {
   "cell_type": "markdown",
   "metadata": {},
   "source": [
    "#### Calculating percent difference\n",
    "- so we can compare how HRV features change between intervals\n",
    "- inputs are the HRV features from the respective intervals:"
   ]
  },
  {
   "cell_type": "code",
   "execution_count": 5,
   "metadata": {},
   "outputs": [],
   "source": [
    "def find_percent_difference(first_val, second_val):\n",
    "   \n",
    "    diff = ((second_val - first_val) / first_val)*100\n",
    "    \n",
    "    return diff"
   ]
  },
  {
   "cell_type": "markdown",
   "metadata": {},
   "source": [
    "#### Detecting stress\n",
    "- inputs: variables and threholds from the Salai paper, as well as the processed ECG signal and physical activity intensities\n",
    "- this returns an array of detected stress events"
   ]
  },
  {
   "cell_type": "code",
   "execution_count": 127,
   "metadata": {},
   "outputs": [],
   "source": [
    "def detect_stress(data, variables, thresholds):\n",
    "    \n",
    "    # process data using heartpy\n",
    "    ecg_data, ecg_measures = hp.process(data.ECG, sampling_rate)\n",
    "    \n",
    "    # prepping some variables\n",
    "    # find the first peak and final peak of the window\n",
    "    # start of the window: first peak (RR wave)\n",
    "    # end of the window: 560th peak (RR wave)\n",
    "    s = 0\n",
    "    e = variables['window_size']\n",
    "    start_index = ecg_data['peaklist'][s]\n",
    "    end_index = ecg_data['peaklist'][e]\n",
    "    \n",
    "    # instantiate stress related variables\n",
    "    stress_event = False\n",
    "    stress_results = []\n",
    "    \n",
    "    # looping through dataset to roll the detection window\n",
    "    while end_index <= ecg_data['peaklist'][-1]:\n",
    "        \n",
    "        # grab window\n",
    "        window = ecg_data['hr'][start_index:end_index].values\n",
    "        \n",
    "        # split window into n intervals\n",
    "        intervals = []\n",
    "        for x in range(0, len(window), int(len(window)/variables['n_intervals'])):\n",
    "            # we don't want to grab more intervals than expected\n",
    "            if len(intervals) < variables['n_intervals']:\n",
    "                intervals.append(window[x : x + int(len(window)/variables['n_intervals'])])\n",
    "        \n",
    "        # instantiate variables for HRV measures\n",
    "        mean_bpm = []\n",
    "        rmssd = []\n",
    "        pnn50 = []\n",
    "        \n",
    "        # interating through the intervals to calculate the HRV features\n",
    "        for i in intervals:\n",
    "            # processing the interval dataset using heartpy to find HRV features\n",
    "            interval_data, measures = hp.process(i, variables['sampling_frequency'])\n",
    "            \n",
    "            # appending HRV features to their respective arrays\n",
    "            mean_bpm.append(measures['bpm'])\n",
    "            rmssd.append(measures['rmssd'])\n",
    "            pnn50.append(measures['pnn50'])\n",
    "            \n",
    "        # compare hrv features across intervals. We are comparing the following:\n",
    "        # mean bpm: change between intervals 1 and 4\n",
    "        # rmssd: change between intervals 3 and 4\n",
    "        # pnn50: change between intervals 3 and 4\n",
    "        mean_bpm_diff = find_percent_difference(mean_bpm[0], mean_bpm[variables['n_intervals']-1])\n",
    "        rmssd_diff = find_percent_difference(rmssd[variables['n_intervals']-2], rmssd[variables['n_intervals']-1])\n",
    "        pnn50_diff = find_percent_difference(pnn50[variables['n_intervals']-2], pnn50[variables['n_intervals']-1])\n",
    "        \n",
    "        # grabbing the physical activity intensity data\n",
    "        # looking at what activity intensity the majority of the interval was in\n",
    "        activity_intensity = max(Counter(data.level[start_index:end_index]))\n",
    "        \n",
    "        # detecting stress depending on how features change\n",
    "        # features change in a manner that depicts stress event\n",
    "        if ((mean_bpm_diff > threshold['mean_bpm_change']) and (rmssd_diff < threshold['rmssd_change']) \n",
    "            and (pnn50_diff < threshold['pnn50_change']) and (activity_intensity == threshold['activity_intensity'])):\n",
    "            stress_event = True\n",
    "\n",
    "        # features change in a manner that depicts end of stress event\n",
    "        elif ((mean_bpm_diff < -threshold['mean_bpm_change']) and (rmssd_diff > -threshold['rmssd_change']) \n",
    "              and (pnn50_diff > -threshold['pnn50_change']) and (activity_intensity != threshold['activity_intensity'])):\n",
    "            stress_event = False\n",
    "            \n",
    "        # push stress result to array\n",
    "        stress_results.append(stress_event)\n",
    "\n",
    "        # update window indices\n",
    "        s = s + variables['shift']\n",
    "        e = e + variables['shift']\n",
    "\n",
    "        # maybe adding an edge case here would be a good idea in order to detect in the final 560RR of the dataset\n",
    "        start_index = hr_data['peaklist'][s]\n",
    "        end_index = hr_data['peaklist'][e]\n",
    "        \n",
    "    return stress_results"
   ]
  },
  {
   "cell_type": "markdown",
   "metadata": {},
   "source": [
    "## Pulling in data"
   ]
  },
  {
   "cell_type": "code",
   "execution_count": 21,
   "metadata": {},
   "outputs": [
    {
     "data": {
      "text/html": [
       "<div>\n",
       "<style scoped>\n",
       "    .dataframe tbody tr th:only-of-type {\n",
       "        vertical-align: middle;\n",
       "    }\n",
       "\n",
       "    .dataframe tbody tr th {\n",
       "        vertical-align: top;\n",
       "    }\n",
       "\n",
       "    .dataframe thead th {\n",
       "        text-align: right;\n",
       "    }\n",
       "</style>\n",
       "<table border=\"1\" class=\"dataframe\">\n",
       "  <thead>\n",
       "    <tr style=\"text-align: right;\">\n",
       "      <th></th>\n",
       "      <th>time</th>\n",
       "      <th>ECG</th>\n",
       "      <th>level</th>\n",
       "    </tr>\n",
       "  </thead>\n",
       "  <tbody>\n",
       "    <tr>\n",
       "      <th>0</th>\n",
       "      <td>400000</td>\n",
       "      <td>117.0</td>\n",
       "      <td>low</td>\n",
       "    </tr>\n",
       "    <tr>\n",
       "      <th>1</th>\n",
       "      <td>400001</td>\n",
       "      <td>115.0</td>\n",
       "      <td>low</td>\n",
       "    </tr>\n",
       "    <tr>\n",
       "      <th>2</th>\n",
       "      <td>400002</td>\n",
       "      <td>106.0</td>\n",
       "      <td>low</td>\n",
       "    </tr>\n",
       "    <tr>\n",
       "      <th>3</th>\n",
       "      <td>400003</td>\n",
       "      <td>101.0</td>\n",
       "      <td>low</td>\n",
       "    </tr>\n",
       "    <tr>\n",
       "      <th>4</th>\n",
       "      <td>400004</td>\n",
       "      <td>96.0</td>\n",
       "      <td>low</td>\n",
       "    </tr>\n",
       "  </tbody>\n",
       "</table>\n",
       "</div>"
      ],
      "text/plain": [
       "     time    ECG level\n",
       "0  400000  117.0   low\n",
       "1  400001  115.0   low\n",
       "2  400002  106.0   low\n",
       "3  400003  101.0   low\n",
       "4  400004   96.0   low"
      ]
     },
     "execution_count": 21,
     "metadata": {},
     "output_type": "execute_result"
    }
   ],
   "source": [
    "data = pd.read_csv(data_path + 'combined_ecg_activity_data.csv', index_col=0)\n",
    "\n",
    "# clip the data as needed\n",
    "data = data[200000:400000].reset_index().drop('index',1)\n",
    "\n",
    "data.head()"
   ]
  },
  {
   "cell_type": "markdown",
   "metadata": {},
   "source": [
    "## Running code"
   ]
  },
  {
   "cell_type": "code",
   "execution_count": 120,
   "metadata": {},
   "outputs": [
    {
     "name": "stdout",
     "output_type": "stream",
     "text": [
      "75 33590\n",
      "[array([978, 978, 977, ..., 414, 411, 405]), array([394, 383, 371, ..., 672, 689, 696]), array([695, 684, 664, ..., 473, 489, 509]), array([535, 566, 603, ..., 589, 628, 661])]\n",
      "[978 978 977 ... 414 411 405]\n"
     ]
    },
    {
     "ename": "BadSignalWarning",
     "evalue": "\n----------------\nCould not determine best fit for given signal. Please check the source signal.\n Probable causes:\n- detected heart rate falls outside of bpmmin<->bpmmax constraints\n- no detectable heart rate present in signal\n- very noisy signal (consider filtering and scaling)\nIf you're sure the signal contains heartrate data, consider filtering and/or scaling first.\n----------------\n",
     "output_type": "error",
     "traceback": [
      "\u001b[0;31m---------------------------------------------------------------------------\u001b[0m",
      "\u001b[0;31mBadSignalWarning\u001b[0m                          Traceback (most recent call last)",
      "\u001b[0;32m<ipython-input-120-fead4f935cae>\u001b[0m in \u001b[0;36m<module>\u001b[0;34m\u001b[0m\n\u001b[0;32m----> 1\u001b[0;31m \u001b[0mstress_results\u001b[0m \u001b[0;34m=\u001b[0m \u001b[0mdetect_stress\u001b[0m\u001b[0;34m(\u001b[0m\u001b[0mdata\u001b[0m\u001b[0;34m,\u001b[0m \u001b[0mdata\u001b[0m\u001b[0;34m.\u001b[0m\u001b[0mlevel\u001b[0m\u001b[0;34m,\u001b[0m \u001b[0mvariables\u001b[0m\u001b[0;34m,\u001b[0m \u001b[0mthresholds\u001b[0m\u001b[0;34m)\u001b[0m\u001b[0;34m\u001b[0m\u001b[0;34m\u001b[0m\u001b[0m\n\u001b[0m\u001b[1;32m      2\u001b[0m \u001b[0mstress_results\u001b[0m\u001b[0;34m\u001b[0m\u001b[0;34m\u001b[0m\u001b[0m\n",
      "\u001b[0;32m<ipython-input-119-8717b2bc936e>\u001b[0m in \u001b[0;36mdetect_stress\u001b[0;34m(data, physical_activity, variables, thresholds)\u001b[0m\n\u001b[1;32m     41\u001b[0m             \u001b[0;31m# processing the interval dataset using heartpy to find HRV features\u001b[0m\u001b[0;34m\u001b[0m\u001b[0;34m\u001b[0m\u001b[0;34m\u001b[0m\u001b[0m\n\u001b[1;32m     42\u001b[0m             \u001b[0mprint\u001b[0m \u001b[0;34m(\u001b[0m\u001b[0mi\u001b[0m\u001b[0;34m)\u001b[0m\u001b[0;34m\u001b[0m\u001b[0;34m\u001b[0m\u001b[0m\n\u001b[0;32m---> 43\u001b[0;31m             \u001b[0minterval_data\u001b[0m\u001b[0;34m,\u001b[0m \u001b[0mmeasures\u001b[0m \u001b[0;34m=\u001b[0m \u001b[0mhp\u001b[0m\u001b[0;34m.\u001b[0m\u001b[0mprocess\u001b[0m\u001b[0;34m(\u001b[0m\u001b[0mi\u001b[0m\u001b[0;34m,\u001b[0m \u001b[0mvariables\u001b[0m\u001b[0;34m[\u001b[0m\u001b[0;34m'sampling_frequency'\u001b[0m\u001b[0;34m]\u001b[0m\u001b[0;34m)\u001b[0m\u001b[0;34m\u001b[0m\u001b[0;34m\u001b[0m\u001b[0m\n\u001b[0m\u001b[1;32m     44\u001b[0m \u001b[0;34m\u001b[0m\u001b[0m\n\u001b[1;32m     45\u001b[0m             \u001b[0;31m# appending HRV features to their respective arrays\u001b[0m\u001b[0;34m\u001b[0m\u001b[0;34m\u001b[0m\u001b[0;34m\u001b[0m\u001b[0m\n",
      "\u001b[0;32m~/anaconda3/lib/python3.7/site-packages/heartpy/heartpy.py\u001b[0m in \u001b[0;36mprocess\u001b[0;34m(hrdata, sample_rate, windowsize, report_time, calc_freq, freq_method, freq_square, interp_clipping, clipping_scale, interp_threshold, hampel_correct, bpmmin, bpmmax, reject_segmentwise, high_precision, high_precision_fs, breathing_method, clean_rr, clean_rr_method, measures, working_data)\u001b[0m\n\u001b[1;32m    258\u001b[0m \u001b[0;34m\u001b[0m\u001b[0m\n\u001b[1;32m    259\u001b[0m     working_data = fit_peaks(hrdata, rol_mean, sample_rate, bpmmin=bpmmin,\n\u001b[0;32m--> 260\u001b[0;31m                              bpmmax=bpmmax, working_data=working_data)\n\u001b[0m\u001b[1;32m    261\u001b[0m \u001b[0;34m\u001b[0m\u001b[0m\n\u001b[1;32m    262\u001b[0m     \u001b[0;32mif\u001b[0m \u001b[0mhigh_precision\u001b[0m\u001b[0;34m:\u001b[0m\u001b[0;34m\u001b[0m\u001b[0;34m\u001b[0m\u001b[0m\n",
      "\u001b[0;32m~/anaconda3/lib/python3.7/site-packages/heartpy/peakdetection.py\u001b[0m in \u001b[0;36mfit_peaks\u001b[0;34m(hrdata, rol_mean, sample_rate, bpmmin, bpmmax, working_data)\u001b[0m\n\u001b[1;32m    304\u001b[0m \u001b[0moutside\u001b[0m \u001b[0mof\u001b[0m \u001b[0mbpmmin\u001b[0m\u001b[0;34m<\u001b[0m\u001b[0;34m->\u001b[0m\u001b[0mbpmmax\u001b[0m \u001b[0mconstraints\u001b[0m\u001b[0;31m\\\u001b[0m\u001b[0mn\u001b[0m\u001b[0;34m-\u001b[0m \u001b[0mno\u001b[0m \u001b[0mdetectable\u001b[0m \u001b[0mheart\u001b[0m \u001b[0mrate\u001b[0m \u001b[0mpresent\u001b[0m \u001b[0;32min\u001b[0m \u001b[0msignal\u001b[0m\u001b[0;31m\\\u001b[0m\u001b[0mn\u001b[0m\u001b[0;31m\\\u001b[0m\u001b[0;34m\u001b[0m\u001b[0;34m\u001b[0m\u001b[0m\n\u001b[1;32m    305\u001b[0m \u001b[0;34m-\u001b[0m \u001b[0mvery\u001b[0m \u001b[0mnoisy\u001b[0m \u001b[0msignal\u001b[0m \u001b[0;34m(\u001b[0m\u001b[0mconsider\u001b[0m \u001b[0mfiltering\u001b[0m \u001b[0;32mand\u001b[0m \u001b[0mscaling\u001b[0m\u001b[0;34m)\u001b[0m\u001b[0;31m\\\u001b[0m\u001b[0mnIf\u001b[0m \u001b[0myou\u001b[0m\u001b[0;31m\\\u001b[0m\u001b[0;31m'\u001b[0m\u001b[0mre\u001b[0m \u001b[0msure\u001b[0m \u001b[0mthe\u001b[0m \u001b[0msignal\u001b[0m \u001b[0mcontains\u001b[0m \u001b[0mheart\u001b[0m\u001b[0;31m\\\u001b[0m\u001b[0;34m\u001b[0m\u001b[0;34m\u001b[0m\u001b[0m\n\u001b[0;32m--> 306\u001b[0;31m rate data, consider filtering and/or scaling first.\\n----------------\\n')\n\u001b[0m\u001b[1;32m    307\u001b[0m \u001b[0;34m\u001b[0m\u001b[0m\n\u001b[1;32m    308\u001b[0m \u001b[0;34m\u001b[0m\u001b[0m\n",
      "\u001b[0;31mBadSignalWarning\u001b[0m: \n----------------\nCould not determine best fit for given signal. Please check the source signal.\n Probable causes:\n- detected heart rate falls outside of bpmmin<->bpmmax constraints\n- no detectable heart rate present in signal\n- very noisy signal (consider filtering and scaling)\nIf you're sure the signal contains heartrate data, consider filtering and/or scaling first.\n----------------\n"
     ]
    }
   ],
   "source": [
    "stress_results = detect_stress(data, variables, thresholds)\n",
    "stress_results"
   ]
  },
  {
   "cell_type": "code",
   "execution_count": null,
   "metadata": {},
   "outputs": [],
   "source": []
  }
 ],
 "metadata": {
  "kernelspec": {
   "display_name": "Python 3",
   "language": "python",
   "name": "python3"
  },
  "language_info": {
   "codemirror_mode": {
    "name": "ipython",
    "version": 3
   },
   "file_extension": ".py",
   "mimetype": "text/x-python",
   "name": "python",
   "nbconvert_exporter": "python",
   "pygments_lexer": "ipython3",
   "version": "3.7.3"
  }
 },
 "nbformat": 4,
 "nbformat_minor": 2
}
